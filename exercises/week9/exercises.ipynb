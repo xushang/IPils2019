{
 "cells": [
  {
   "cell_type": "markdown",
   "metadata": {},
   "source": [
    "# Exercise 1 (Existence and uniqueness)"
   ]
  },
  {
   "cell_type": "markdown",
   "metadata": {},
   "source": [
    "* For existence of a solution, verify why the TV functional is lower semi-continuous in the corresponding topology.\n",
    "* Does the Rudin-Osher-Fatemi model have a unique minimizer? Why or why not?"
   ]
  },
  {
   "cell_type": "markdown",
   "metadata": {},
   "source": [
    "# Exercise 2 (Dual functionals)"
   ]
  },
  {
   "cell_type": "markdown",
   "metadata": {},
   "source": [
    "Compute the convex conjugates of the following primal functionals $J : X \\rightarrow \\mathbb{R} \\cup\n",
    "\\{ \\infty \\}$, i.e. the dual functionals $J^*: X^*\\rightarrow \\mathbb{R} \\cup \\{ \\infty \\}$ of,\n",
    "* $J(u) = \\left\\| u \\right\\|_{L^2(\\Omega)}$\n",
    "* $J(u) = \\frac{\\alpha}{2} \\left\\| u \\right\\|_{L^2(\\Omega)}^2$\n",
    "* $J(u) = \\left\\| u \\right\\|_{L^1(\\Omega)}$.\n",
    "\n",
    "__Hint__: Remark, that in the dual formulation, due to the supremum, there holds equality in the Hölder inequality."
   ]
  },
  {
   "cell_type": "markdown",
   "metadata": {},
   "source": [
    "# Exercise 3 (Subdifferentials)"
   ]
  },
  {
   "cell_type": "markdown",
   "metadata": {},
   "source": [
    "Compute the subdifferentials $\\partial f(x)$ of the following functions:\n",
    "* The Euclidean norm $f:\\mathbb{R}^n \\rightarrow \\mathbb{R}, x \\, \\mapsto\n",
    "\t\\left\\|x\\right\\|_{\\ell^2}$\n",
    "* The characteristic function of the positive quadrant,\n",
    "\t$\\,f = \\chi_K, \\, \\text{ with } \\, K:=\\left\\{ x \\in \\mathbb{R}^n \\,:\\, x_j \\geq 0, \\text{ for all } \\, 1 \\leq j \\leq n \\right\\}$.\n",
    "\n",
    "https://en.wikipedia.org/wiki/Characteristic_function_(convex_analysis)"
   ]
  }
 ],
 "metadata": {
  "kernelspec": {
   "display_name": "Python 3",
   "language": "python",
   "name": "python3"
  },
  "language_info": {
   "codemirror_mode": {
    "name": "ipython",
    "version": 3
   },
   "file_extension": ".py",
   "mimetype": "text/x-python",
   "name": "python",
   "nbconvert_exporter": "python",
   "pygments_lexer": "ipython3",
   "version": "3.6.4"
  }
 },
 "nbformat": 4,
 "nbformat_minor": 2
}
